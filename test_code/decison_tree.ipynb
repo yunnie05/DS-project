{
 "cells": [
  {
   "cell_type": "code",
   "execution_count": 1,
   "id": "5ea3753f-0c8a-43da-8392-92f68876cae5",
   "metadata": {},
   "outputs": [],
   "source": [
    "import pandas as pd\n",
    "import numpy as np\n",
    "import math\n",
    "from sklearn.preprocessing import OneHotEncoder\n",
    "from sklearn.preprocessing import OrdinalEncoder\n",
    "from copy import deepcopy\n",
    "import seaborn as sns\n",
    "import matplotlib.pyplot as plt\n",
    "from sklearn import datasets\n",
    "from sklearn.model_selection import train_test_split\n",
    "from sklearn.tree import DecisionTreeClassifier\n",
    "from sklearn.metrics import accuracy_score\n",
    "\n",
    "\n",
    "#Carregando o dataset\n",
    "hcc = pd.read_csv(\"default_imputation.csv\", sep=\",\")\n",
    "hcc_knn = pd.read_csv(\"knn_imputation.csv\", sep=\",\")"
   ]
  },
  {
   "cell_type": "code",
   "execution_count": 2,
   "id": "1e26ce93-2f7d-45a1-a592-190a7be97970",
   "metadata": {},
   "outputs": [],
   "source": [
    "def decision_tree(subdataset):\n",
    "    # Carregue um conjunto de dados de exemplo (por exemplo, o conjunto de dados Iris)\n",
    "    iris = datasets.load_iris()\n",
    "    X = subdataset.drop(columns = [\"Class_LIVES\"])\n",
    "    y = subdataset[\"Class_LIVES\"]\n",
    "    \n",
    "    # Divida os dados em conjunto de treinamento e conjunto de teste\n",
    "    X_train, X_test, y_train, y_test = train_test_split(X, y, test_size=0.2, random_state=42)\n",
    "    \n",
    "    # Inicialize o classificador da árvore de decisão\n",
    "    clf = DecisionTreeClassifier(max_leaf_nodes=8, criterion=\"gini\", random_state=0)\n",
    "    \n",
    "    # Treine o classificador usando o conjunto de treinamento\n",
    "    clf.fit(X_train, y_train)\n",
    "    \n",
    "    # Faça previsões no conjunto de teste\n",
    "    y_pred = clf.predict(X_test)\n",
    "    \n",
    "    # Avalie a precisão do modelo\n",
    "    accuracy = accuracy_score(y_test, y_pred)\n",
    "    print(\"Acurácia:\", accuracy)"
   ]
  },
  {
   "cell_type": "code",
   "execution_count": 3,
   "id": "d752d7b3-80c4-4486-b9a8-f581c28d16f7",
   "metadata": {},
   "outputs": [],
   "source": [
    "def dt_test(df, columns):\n",
    "    for i in range(len(columns)):\n",
    "        print(f\"SUBDATASET {i+1:}\")\n",
    "        subdataset = df[columns[i]]\n",
    "        decision_tree(subdataset)"
   ]
  },
  {
   "cell_type": "code",
   "execution_count": 4,
   "id": "9715bd55-136e-495c-baac-53fb7ac9e9cd",
   "metadata": {},
   "outputs": [
    {
     "name": "stdout",
     "output_type": "stream",
     "text": [
      "Imputação padrão\n",
      "SUBDATASET 1\n",
      "Acurácia: 0.6666666666666666\n",
      "SUBDATASET 2\n",
      "Acurácia: 0.696969696969697\n",
      "SUBDATASET 3\n",
      "Acurácia: 0.48484848484848486\n",
      "SUBDATASET 4\n",
      "Acurácia: 0.5151515151515151\n",
      "SUBDATASET 5\n",
      "Acurácia: 0.6363636363636364\n",
      "\n",
      "Imputação knn\n",
      "SUBDATASET 1\n",
      "Acurácia: 0.6363636363636364\n",
      "SUBDATASET 2\n",
      "Acurácia: 0.6060606060606061\n",
      "SUBDATASET 3\n",
      "Acurácia: 0.48484848484848486\n",
      "SUBDATASET 4\n",
      "Acurácia: 0.5151515151515151\n",
      "SUBDATASET 5\n",
      "Acurácia: 0.5454545454545454\n"
     ]
    }
   ],
   "source": [
    "#dados do artigo que o prof passou\n",
    "columns1 = [\"ALP\", \"AFP\", \"Hemoglobin\", \" Albumin\", \"Ferritin\",\"PS\", \"AST\", \"Class_LIVES\"]\n",
    "#dados obtidos na matrix de correlação > |0.20| apenas com as variáveis numericas\n",
    "columns2 = [\"Hemoglobin\", \" Albumin\", \"Iron\", \"Leucocytes\", \"INR\", \"Total_Bil\", \"Dir_Bil\", \"Ferritin\", \"ALP\", \"Class_LIVES\"]\n",
    "#dados obtidos na matrix de correlação > |0.20| \n",
    "columns3 = ['Symptoms_YES', 'PVT_YES', 'Metastasis_YES', 'PS', 'Ascites', 'INR', 'Hemoglobin', ' Albumin', 'Total_Bil', 'ALP', 'Dir_Bil', 'Iron', 'Ferritin', \"Class_LIVES\"]\n",
    "#dados obtidos na matrix de correlação > |0.25| \n",
    "columns4 = ['Symptoms_YES', 'PS', 'Hemoglobin', ' Albumin', 'ALP', 'Dir_Bil', 'Iron', 'Ferritin', \"Class_LIVES\"]\n",
    "#dados obtidos na matrix de correlação > |0.29| \n",
    "columns5 = ['Symptoms_YES', 'PS', 'Hemoglobin', 'ALP', 'Iron', 'Ferritin', 'Class_LIVES']\n",
    "print(\"Imputação padrão\")\n",
    "dt_test(hcc, [columns1, columns2, columns3, columns4, columns5])\n",
    "\n",
    "print(\"\\nImputação knn\")\n",
    "dt_test(hcc_knn, [columns1, columns2, columns3, columns4, columns5])\n"
   ]
  },
  {
   "cell_type": "markdown",
   "id": "6f7e3c7a-b094-4a1c-a114-6bb3267bce41",
   "metadata": {},
   "source": [
    "# "
   ]
  }
 ],
 "metadata": {
  "kernelspec": {
   "display_name": "Python 3 (ipykernel)",
   "language": "python",
   "name": "python3"
  },
  "language_info": {
   "codemirror_mode": {
    "name": "ipython",
    "version": 3
   },
   "file_extension": ".py",
   "mimetype": "text/x-python",
   "name": "python",
   "nbconvert_exporter": "python",
   "pygments_lexer": "ipython3",
   "version": "3.11.7"
  }
 },
 "nbformat": 4,
 "nbformat_minor": 5
}
